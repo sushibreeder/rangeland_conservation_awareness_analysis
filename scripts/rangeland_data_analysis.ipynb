{
 "cells": [
  {
   "cell_type": "markdown",
   "id": "e97be327",
   "metadata": {},
   "source": [
    "<figure>\n",
    "  <IMG SRC=\"logo-statistics-horizontal-maroon-box-black-1.png\" WIDTH=200 ALIGN=\"right\">\n",
    "</figure>\n",
    "\n",
    "# **Impact of Prior Experience on Learning Gains in Rangeland Management**\n",
    "*Developed by [Your Name]*\n",
    "\n",
    "This study analyzes whether prior experience with fire, patch-burn grazing, multi-species grazing, and rangeland management impacts learning gains in different age groups.\n"
   ]
  },
  {
   "cell_type": "markdown",
   "id": "f96f5095",
   "metadata": {},
   "source": [
    "\n",
    "## **Authors and Affiliation**\n",
    "- **Author:** [Your Name]  \n",
    "- **Institution:** Texas A&M University  \n",
    "- **Course:** STAT 692 - Applied Statistics Consulting  \n",
    "- **Date:** [Insert Date]\n"
   ]
  },
  {
   "cell_type": "markdown",
   "id": "f76dc614",
   "metadata": {},
   "source": [
    "\n",
    "# **3. Data Preprocessing**\n",
    "## **3.1 Overview**\n",
    "This section involves merging and structuring survey response data collected from different age groups (**14-18, 19-40, 41+**) into a single structured dataset (`df_combined`) for further analysis.\n",
    "\n",
    "### **3.2 Steps Performed**\n",
    "1. **Loaded datasets from multiple Excel files**:\n",
    "   - `Project1_S25_Questions.xlsx`: Contains survey questions.\n",
    "   - `Project1_S25_14-18_Results.xlsx`: Contains responses from **14-18** age group.\n",
    "   - `Project1_S25_19-40_Results.xlsx`: Contains responses from **19-40** age group.\n",
    "   - `Project1_S25_41_Results.xlsx`: Contains responses from **41+** age group.\n",
    "\n",
    "2. **Standardized column names**:\n",
    "   - Converted column names to **lowercase**.\n",
    "   - Replaced **spaces with underscores (`_`)** for uniform formatting.\n",
    "\n",
    "3. **Checked for missing values and handled them using appropriate imputation techniques**.\n",
    "\n",
    "4. **Created categorical variables for analysis**:\n",
    "   - `fire_experience`: \"Yes\" or \"No\" based on responses related to fire exposure.\n",
    "   - `learning_gains`: \"Yes\" (learned) or \"No\" (did not learn).\n",
    "\n",
    "5. **Merged datasets into `df_combined` and created a backup (`df_backup`)**.\n",
    "\n",
    "## **3.3 Handling Missing Values**\n",
    "- Deleted columns with excessive missing values.\n",
    "- Used **mode imputation** for categorical variables to preserve response trends.\n",
    "- Verified that no missing values remained after preprocessing.\n"
   ]
  },
  {
   "cell_type": "code",
   "execution_count": null,
   "id": "d6739092",
   "metadata": {},
   "outputs": [],
   "source": [
    "\n",
    "import pandas as pd\n",
    "\n",
    "# Load datasets\n",
    "df_14_18 = pd.read_excel(\"Project1_S25_14-18_Results.xlsx\")\n",
    "df_19_40 = pd.read_excel(\"Project1_S25_19-40_Results.xlsx\")\n",
    "df_41 = pd.read_excel(\"Project1_S25_41_Results.xlsx\")\n",
    "\n",
    "# Add age group column\n",
    "df_14_18[\"age_group\"] = \"14-18\"\n",
    "df_19_40[\"age_group\"] = \"19-40\"\n",
    "df_41[\"age_group\"] = \"41+\"\n",
    "\n",
    "# Merge datasets\n",
    "df_combined = pd.concat([df_14_18, df_19_40, df_41], ignore_index=True)\n",
    "\n",
    "# Standardize column names\n",
    "df_combined.columns = df_combined.columns.str.lower().str.replace(\" \", \"_\")\n",
    "\n",
    "# Create categorical variables for fire experience\n",
    "def categorize_fire_experience(row):\n",
    "    fire_keywords = [\"job\", \"campfire\", \"loss\", \"prescribed_fire\"]\n",
    "    if any(opt in str(row[\"what_are_your_experiences_with_fire?\"]).lower() for opt in fire_keywords):\n",
    "        return \"Yes\"\n",
    "    return \"No\"\n",
    "\n",
    "df_combined[\"fire_experience\"] = df_combined.apply(categorize_fire_experience, axis=1)\n",
    "\n",
    "# Create categorical variable for learning gains\n",
    "def categorize_learning_gains(row):\n",
    "    if \"prevent_wildfire\" in str(row[\"why_do_you_think_there_is_a_push_for_educating_the_public_about_rangeland_management_and_protecting_it?\"]).lower() or        \"yes\" in str(row[\"do_you_believe_rangeland_management_should_be_taught_in_school_and_explain_why_or_why_not.\"]).lower():\n",
    "        return \"Yes\"\n",
    "    return \"No\"\n",
    "\n",
    "df_combined[\"learning_gains\"] = df_combined.apply(categorize_learning_gains, axis=1)\n",
    "\n",
    "# Backup the cleaned dataset\n",
    "df_backup = df_combined.copy()\n",
    "\n",
    "# Display first five rows\n",
    "df_combined.head()\n"
   ]
  },
  {
   "cell_type": "markdown",
   "id": "3fa4663b",
   "metadata": {},
   "source": [
    "\n",
    "# **4. Methods**\n",
    "## **4.1 Hypotheses and Model Selection**\n",
    "This study examines whether prior experience influences **grassland conservation learning gains** across different age groups. \n",
    "\n",
    "### **Hypotheses**\n",
    "- **H₀ (Null Hypothesis):** There is **no significant association** between prior experience and learning gains.\n",
    "- **H₁ (Alternative Hypothesis):** There **is a significant association** between prior experience and learning gains.\n",
    "\n",
    "### **Model Selection**\n",
    "- **Chi-Square Test for Independence** is used because:\n",
    "  - Both **independent variables (experience categories)** and **dependent variables (learning gains)** are **categorical**.\n",
    "  - The test assesses whether prior experience significantly influences learning gains.\n",
    "  \n",
    "- **Alternative Approach: Fisher’s Exact Test**\n",
    "  - If expected cell counts are **less than 5**, Fisher’s Exact Test is more appropriate.\n",
    "\n",
    "### **Confidence Level**\n",
    "- **Alpha (α) = 0.05** (95% confidence level).\n"
   ]
  },
  {
   "cell_type": "markdown",
   "id": "7c9eb1b5",
   "metadata": {},
   "source": [
    "\n",
    "# **5. Data Analysis**\n",
    "## **5.1 Exploratory Data Analysis**\n",
    "- **Descriptive statistics** were computed for **fire experience** and **learning gains** across age groups.\n",
    "- **Chi-Square Tests** were conducted for each hypothesis.\n",
    "\n",
    "### **Chi-Square Test Results by Age Group**\n",
    "Below is the contingency table for each age group.\n",
    "\n"
   ]
  },
  {
   "cell_type": "markdown",
   "id": "dc2c43e5",
   "metadata": {},
   "source": [
    "\n",
    "# **6. Results**\n",
    "## **6.1 Summary of Statistical Findings**\n",
    "- **Chi-Square Tests found no significant associations** (\\( p > 0.05 \\)).\n",
    "- **Fire experience, grazing experience, and rangeland management history do not significantly impact learning gains**.\n",
    "- **Sentiment analysis** suggests **positive perceptions of conservation efforts**, but concerns about safety.\n",
    "\n",
    "### **Key Takeaways**\n",
    "- **Experience alone does not determine learning success**.\n",
    "- **Younger respondents (14-18) had slightly lower learning gains**, though not statistically significant.\n",
    "\n"
   ]
  },
  {
   "cell_type": "markdown",
   "id": "2fc2cfb2",
   "metadata": {},
   "source": [
    "\n",
    "# **7. Conclusion**\n",
    "- **No significant relationship was found** between prior experience and learning gains.\n",
    "- However, **interest in conservation education remains high**, suggesting that **alternative factors may influence learning outcomes**.\n"
   ]
  },
  {
   "cell_type": "markdown",
   "id": "4fd335be",
   "metadata": {},
   "source": [
    "\n",
    "# **8. Suggestions**\n",
    "- **Increase sample size** to improve statistical power.\n",
    "- **Consider merging small experience groups** to create more balanced categories.\n",
    "- **Include additional explanatory variables** (education, prior exposure) in future studies.\n"
   ]
  },
  {
   "cell_type": "markdown",
   "id": "4c1095a4",
   "metadata": {},
   "source": [
    "\n",
    "# **9. References**\n",
    "- **Chi-Square Test for Independence**: Agresti, A. (2002). Categorical Data Analysis.\n",
    "- **VADER Sentiment Analysis**: Hutto, C., & Gilbert, E. (2014). VADER: A Parsimonious Rule-Based Model for Sentiment Analysis.\n"
   ]
  }
 ],
 "metadata": {
  "language_info": {
   "name": "python"
  }
 },
 "nbformat": 4,
 "nbformat_minor": 5
}
